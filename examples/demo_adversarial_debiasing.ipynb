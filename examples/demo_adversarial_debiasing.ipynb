{
 "cells": [
  {
   "cell_type": "markdown",
   "metadata": {},
   "source": [
    "#### This notebook demonstrates the use of adversarial debiasing algorithm to learn a fair classifier.\n",
    "Adversarial debiasing [1] is an in-processing technique that learns a classifier to maximize prediction accuracy and simultaneously reduce an adversary's ability to determine the protected attribute from the predictions. This approach leads to a fair classifier as the predictions cannot carry any group discrimination information that the adversary can exploit. We will see how to use this algorithm for learning models with and without fairness constraints and apply them on the Adult dataset."
   ]
  },
  {
   "cell_type": "code",
   "execution_count": 1,
   "metadata": {},
   "outputs": [
    {
     "name": "stdout",
     "output_type": "stream",
     "text": [
      "/home/lalor/miniconda3/envs/reddit/bin/python\n"
     ]
    }
   ],
   "source": [
    "!which python"
   ]
  },
  {
   "cell_type": "code",
   "execution_count": null,
   "metadata": {},
   "outputs": [],
   "source": []
  },
  {
   "cell_type": "code",
   "execution_count": 2,
   "metadata": {},
   "outputs": [
    {
     "name": "stdout",
     "output_type": "stream",
     "text": [
      "0.6.0\n"
     ]
    }
   ],
   "source": [
    "import aif360\n",
    "print(aif360.__version__)"
   ]
  },
  {
   "cell_type": "code",
   "execution_count": 3,
   "metadata": {},
   "outputs": [],
   "source": [
    "%matplotlib inline\n",
    "# Load all necessary packages\n",
    "import sys\n",
    "sys.path.append(\"../\")\n",
    "from aif360.datasets import BinaryLabelDataset\n",
    "from aif360.datasets import AdultDataset, GermanDataset, CompasDataset\n",
    "from aif360.metrics import BinaryLabelDatasetMetric\n",
    "from aif360.metrics import ClassificationMetric\n",
    "from aif360.metrics.utils import compute_boolean_conditioning_vector\n",
    "\n",
    "from aif360.algorithms.preprocessing.optim_preproc_helpers.data_preproc_functions import load_preproc_data_adult, load_preproc_data_compas, load_preproc_data_german\n",
    "\n",
    "from aif360.algorithms.inprocessing.adversarial_error_debiasing import AdversarialErrorDebiasing\n",
    "from aif360.algorithms.inprocessing.adversarial_debiasing import AdversarialDebiasing\n",
    "\n",
    "from sklearn.linear_model import LogisticRegression\n",
    "from sklearn.preprocessing import StandardScaler, MaxAbsScaler\n",
    "from sklearn.metrics import accuracy_score\n",
    "\n",
    "from IPython.display import Markdown, display\n",
    "import matplotlib.pyplot as plt\n",
    "\n",
    "import tensorflow.compat.v1 as tf\n",
    "tf.disable_eager_execution()\n",
    "tf.random.set_random_seed(\n",
    "    42\n",
    ")\n"
   ]
  },
  {
   "cell_type": "markdown",
   "metadata": {},
   "source": [
    "#### Load dataset and set options"
   ]
  },
  {
   "cell_type": "code",
   "execution_count": 4,
   "metadata": {},
   "outputs": [],
   "source": [
    "# Get the dataset and split into train and test\n",
    "dataset_orig = load_preproc_data_adult()\n",
    "\n",
    "#privileged_groups = [{'race': 1}]\n",
    "#unprivileged_groups = [{'race': 0}]\n",
    "\n",
    "privileged_groups = [{'sex': 1}]\n",
    "unprivileged_groups = [{'sex': 0}]\n",
    "\n",
    "dataset_orig_train, dataset_orig_test = dataset_orig.split([0.7], shuffle=True)"
   ]
  },
  {
   "cell_type": "code",
   "execution_count": 5,
   "metadata": {},
   "outputs": [
    {
     "data": {
      "text/markdown": [
       "#### Training Dataset shape"
      ],
      "text/plain": [
       "<IPython.core.display.Markdown object>"
      ]
     },
     "metadata": {},
     "output_type": "display_data"
    },
    {
     "name": "stdout",
     "output_type": "stream",
     "text": [
      "(34189, 18)\n"
     ]
    },
    {
     "data": {
      "text/markdown": [
       "#### Favorable and unfavorable labels"
      ],
      "text/plain": [
       "<IPython.core.display.Markdown object>"
      ]
     },
     "metadata": {},
     "output_type": "display_data"
    },
    {
     "name": "stdout",
     "output_type": "stream",
     "text": [
      "1.0 0.0\n"
     ]
    },
    {
     "data": {
      "text/markdown": [
       "#### Protected attribute names"
      ],
      "text/plain": [
       "<IPython.core.display.Markdown object>"
      ]
     },
     "metadata": {},
     "output_type": "display_data"
    },
    {
     "name": "stdout",
     "output_type": "stream",
     "text": [
      "['sex', 'race']\n"
     ]
    },
    {
     "data": {
      "text/markdown": [
       "#### Privileged and unprivileged protected attribute values"
      ],
      "text/plain": [
       "<IPython.core.display.Markdown object>"
      ]
     },
     "metadata": {},
     "output_type": "display_data"
    },
    {
     "name": "stdout",
     "output_type": "stream",
     "text": [
      "[array([1.]), array([1.])] [array([0.]), array([0.])]\n"
     ]
    },
    {
     "data": {
      "text/markdown": [
       "#### Dataset feature names"
      ],
      "text/plain": [
       "<IPython.core.display.Markdown object>"
      ]
     },
     "metadata": {},
     "output_type": "display_data"
    },
    {
     "name": "stdout",
     "output_type": "stream",
     "text": [
      "['race', 'sex', 'Age (decade)=10', 'Age (decade)=20', 'Age (decade)=30', 'Age (decade)=40', 'Age (decade)=50', 'Age (decade)=60', 'Age (decade)=>=70', 'Education Years=6', 'Education Years=7', 'Education Years=8', 'Education Years=9', 'Education Years=10', 'Education Years=11', 'Education Years=12', 'Education Years=<6', 'Education Years=>12']\n"
     ]
    }
   ],
   "source": [
    "# print out some labels, names, etc.\n",
    "display(Markdown(\"#### Training Dataset shape\"))\n",
    "print(dataset_orig_train.features.shape)\n",
    "display(Markdown(\"#### Favorable and unfavorable labels\"))\n",
    "print(dataset_orig_train.favorable_label, dataset_orig_train.unfavorable_label)\n",
    "display(Markdown(\"#### Protected attribute names\"))\n",
    "print(dataset_orig_train.protected_attribute_names)\n",
    "display(Markdown(\"#### Privileged and unprivileged protected attribute values\"))\n",
    "print(dataset_orig_train.privileged_protected_attributes, \n",
    "      dataset_orig_train.unprivileged_protected_attributes)\n",
    "display(Markdown(\"#### Dataset feature names\"))\n",
    "print(dataset_orig_train.feature_names)"
   ]
  },
  {
   "cell_type": "markdown",
   "metadata": {},
   "source": [
    "#### Metric for original training data"
   ]
  },
  {
   "cell_type": "code",
   "execution_count": 6,
   "metadata": {},
   "outputs": [
    {
     "data": {
      "text/markdown": [
       "#### Original training dataset"
      ],
      "text/plain": [
       "<IPython.core.display.Markdown object>"
      ]
     },
     "metadata": {},
     "output_type": "display_data"
    },
    {
     "name": "stdout",
     "output_type": "stream",
     "text": [
      "Train set: Difference in mean outcomes between unprivileged and privileged groups = -0.194507\n",
      "Test set: Difference in mean outcomes between unprivileged and privileged groups = -0.194577\n"
     ]
    }
   ],
   "source": [
    "# Metric for the original dataset\n",
    "metric_orig_train = BinaryLabelDatasetMetric(dataset_orig_train, \n",
    "                                             unprivileged_groups=unprivileged_groups,\n",
    "                                             privileged_groups=privileged_groups)\n",
    "display(Markdown(\"#### Original training dataset\"))\n",
    "print(\"Train set: Difference in mean outcomes between unprivileged and privileged groups = %f\" % metric_orig_train.mean_difference())\n",
    "metric_orig_test = BinaryLabelDatasetMetric(dataset_orig_test, \n",
    "                                             unprivileged_groups=unprivileged_groups,\n",
    "                                             privileged_groups=privileged_groups)\n",
    "print(\"Test set: Difference in mean outcomes between unprivileged and privileged groups = %f\" % metric_orig_test.mean_difference())"
   ]
  },
  {
   "cell_type": "code",
   "execution_count": 7,
   "metadata": {},
   "outputs": [
    {
     "data": {
      "text/markdown": [
       "#### Scaled dataset - Verify that the scaling does not affect the group label statistics"
      ],
      "text/plain": [
       "<IPython.core.display.Markdown object>"
      ]
     },
     "metadata": {},
     "output_type": "display_data"
    },
    {
     "name": "stdout",
     "output_type": "stream",
     "text": [
      "Train set: Difference in mean outcomes between unprivileged and privileged groups = -0.194507\n",
      "Test set: Difference in mean outcomes between unprivileged and privileged groups = -0.194577\n"
     ]
    }
   ],
   "source": [
    "min_max_scaler = MaxAbsScaler()\n",
    "dataset_orig_train.features = min_max_scaler.fit_transform(dataset_orig_train.features)\n",
    "dataset_orig_test.features = min_max_scaler.transform(dataset_orig_test.features)\n",
    "metric_scaled_train = BinaryLabelDatasetMetric(dataset_orig_train, \n",
    "                             unprivileged_groups=unprivileged_groups,\n",
    "                             privileged_groups=privileged_groups)\n",
    "display(Markdown(\"#### Scaled dataset - Verify that the scaling does not affect the group label statistics\"))\n",
    "print(\"Train set: Difference in mean outcomes between unprivileged and privileged groups = %f\" % metric_scaled_train.mean_difference())\n",
    "metric_scaled_test = BinaryLabelDatasetMetric(dataset_orig_test, \n",
    "                             unprivileged_groups=unprivileged_groups,\n",
    "                             privileged_groups=privileged_groups)\n",
    "print(\"Test set: Difference in mean outcomes between unprivileged and privileged groups = %f\" % metric_scaled_test.mean_difference())\n"
   ]
  },
  {
   "cell_type": "markdown",
   "metadata": {},
   "source": [
    "### Learn plan classifier without debiasing"
   ]
  },
  {
   "cell_type": "code",
   "execution_count": 8,
   "metadata": {},
   "outputs": [],
   "source": [
    "# Load post-processing algorithm that equalizes the odds\n",
    "# Learn parameters with debias set to False\n",
    "sess = tf.Session()\n",
    "plain_model = AdversarialDebiasing(privileged_groups = privileged_groups,\n",
    "                          unprivileged_groups = unprivileged_groups,\n",
    "                          scope_name='plain_classifier',\n",
    "                          debias=False,\n",
    "                          sess=sess)"
   ]
  },
  {
   "cell_type": "code",
   "execution_count": 9,
   "metadata": {
    "scrolled": true
   },
   "outputs": [
    {
     "name": "stdout",
     "output_type": "stream",
     "text": [
      "WARNING:tensorflow:From /home/lalor/miniconda3/envs/reddit/lib/python3.9/site-packages/tensorflow/python/util/dispatch.py:1082: calling dropout (from tensorflow.python.ops.nn_ops) with keep_prob is deprecated and will be removed in a future version.\n",
      "Instructions for updating:\n",
      "Please use `rate` instead of `keep_prob`. Rate should be set to `rate = 1 - keep_prob`.\n",
      "epoch 0; iter: 0; batch classifier loss: 0.701448\n",
      "epoch 0; iter: 200; batch classifier loss: 0.364368\n",
      "epoch 1; iter: 0; batch classifier loss: 0.334042\n",
      "epoch 1; iter: 200; batch classifier loss: 0.450820\n",
      "epoch 2; iter: 0; batch classifier loss: 0.493291\n",
      "epoch 2; iter: 200; batch classifier loss: 0.382364\n",
      "epoch 3; iter: 0; batch classifier loss: 0.402964\n",
      "epoch 3; iter: 200; batch classifier loss: 0.388148\n",
      "epoch 4; iter: 0; batch classifier loss: 0.517890\n",
      "epoch 4; iter: 200; batch classifier loss: 0.443150\n",
      "epoch 5; iter: 0; batch classifier loss: 0.392776\n",
      "epoch 5; iter: 200; batch classifier loss: 0.419714\n",
      "epoch 6; iter: 0; batch classifier loss: 0.501296\n",
      "epoch 6; iter: 200; batch classifier loss: 0.359420\n",
      "epoch 7; iter: 0; batch classifier loss: 0.404994\n",
      "epoch 7; iter: 200; batch classifier loss: 0.450537\n",
      "epoch 8; iter: 0; batch classifier loss: 0.454901\n",
      "epoch 8; iter: 200; batch classifier loss: 0.350633\n",
      "epoch 9; iter: 0; batch classifier loss: 0.418895\n",
      "epoch 9; iter: 200; batch classifier loss: 0.465375\n",
      "epoch 10; iter: 0; batch classifier loss: 0.468130\n",
      "epoch 10; iter: 200; batch classifier loss: 0.462112\n",
      "epoch 11; iter: 0; batch classifier loss: 0.395757\n",
      "epoch 11; iter: 200; batch classifier loss: 0.391348\n",
      "epoch 12; iter: 0; batch classifier loss: 0.381767\n",
      "epoch 12; iter: 200; batch classifier loss: 0.422170\n",
      "epoch 13; iter: 0; batch classifier loss: 0.411453\n",
      "epoch 13; iter: 200; batch classifier loss: 0.395949\n",
      "epoch 14; iter: 0; batch classifier loss: 0.458376\n",
      "epoch 14; iter: 200; batch classifier loss: 0.376620\n",
      "epoch 15; iter: 0; batch classifier loss: 0.358956\n",
      "epoch 15; iter: 200; batch classifier loss: 0.396269\n",
      "epoch 16; iter: 0; batch classifier loss: 0.460198\n",
      "epoch 16; iter: 200; batch classifier loss: 0.442190\n",
      "epoch 17; iter: 0; batch classifier loss: 0.488443\n",
      "epoch 17; iter: 200; batch classifier loss: 0.347001\n",
      "epoch 18; iter: 0; batch classifier loss: 0.497013\n",
      "epoch 18; iter: 200; batch classifier loss: 0.433324\n",
      "epoch 19; iter: 0; batch classifier loss: 0.350192\n",
      "epoch 19; iter: 200; batch classifier loss: 0.493163\n",
      "epoch 20; iter: 0; batch classifier loss: 0.434378\n",
      "epoch 20; iter: 200; batch classifier loss: 0.509412\n",
      "epoch 21; iter: 0; batch classifier loss: 0.403736\n",
      "epoch 21; iter: 200; batch classifier loss: 0.420383\n",
      "epoch 22; iter: 0; batch classifier loss: 0.453569\n",
      "epoch 22; iter: 200; batch classifier loss: 0.381246\n",
      "epoch 23; iter: 0; batch classifier loss: 0.416945\n",
      "epoch 23; iter: 200; batch classifier loss: 0.453296\n",
      "epoch 24; iter: 0; batch classifier loss: 0.386490\n",
      "epoch 24; iter: 200; batch classifier loss: 0.335194\n",
      "epoch 25; iter: 0; batch classifier loss: 0.360485\n",
      "epoch 25; iter: 200; batch classifier loss: 0.400585\n",
      "epoch 26; iter: 0; batch classifier loss: 0.445236\n",
      "epoch 26; iter: 200; batch classifier loss: 0.471995\n",
      "epoch 27; iter: 0; batch classifier loss: 0.372567\n",
      "epoch 27; iter: 200; batch classifier loss: 0.435151\n",
      "epoch 28; iter: 0; batch classifier loss: 0.330209\n",
      "epoch 28; iter: 200; batch classifier loss: 0.468960\n",
      "epoch 29; iter: 0; batch classifier loss: 0.467232\n",
      "epoch 29; iter: 200; batch classifier loss: 0.482835\n",
      "epoch 30; iter: 0; batch classifier loss: 0.385915\n",
      "epoch 30; iter: 200; batch classifier loss: 0.465134\n",
      "epoch 31; iter: 0; batch classifier loss: 0.355702\n",
      "epoch 31; iter: 200; batch classifier loss: 0.399010\n",
      "epoch 32; iter: 0; batch classifier loss: 0.485071\n",
      "epoch 32; iter: 200; batch classifier loss: 0.434117\n",
      "epoch 33; iter: 0; batch classifier loss: 0.414545\n",
      "epoch 33; iter: 200; batch classifier loss: 0.391090\n",
      "epoch 34; iter: 0; batch classifier loss: 0.364259\n",
      "epoch 34; iter: 200; batch classifier loss: 0.367108\n",
      "epoch 35; iter: 0; batch classifier loss: 0.358024\n",
      "epoch 35; iter: 200; batch classifier loss: 0.400708\n",
      "epoch 36; iter: 0; batch classifier loss: 0.398463\n",
      "epoch 36; iter: 200; batch classifier loss: 0.392075\n",
      "epoch 37; iter: 0; batch classifier loss: 0.388207\n",
      "epoch 37; iter: 200; batch classifier loss: 0.415996\n",
      "epoch 38; iter: 0; batch classifier loss: 0.455711\n",
      "epoch 38; iter: 200; batch classifier loss: 0.349665\n",
      "epoch 39; iter: 0; batch classifier loss: 0.389052\n",
      "epoch 39; iter: 200; batch classifier loss: 0.476561\n",
      "epoch 40; iter: 0; batch classifier loss: 0.426911\n",
      "epoch 40; iter: 200; batch classifier loss: 0.388269\n",
      "epoch 41; iter: 0; batch classifier loss: 0.393077\n",
      "epoch 41; iter: 200; batch classifier loss: 0.415079\n",
      "epoch 42; iter: 0; batch classifier loss: 0.396681\n",
      "epoch 42; iter: 200; batch classifier loss: 0.485147\n",
      "epoch 43; iter: 0; batch classifier loss: 0.404691\n",
      "epoch 43; iter: 200; batch classifier loss: 0.390589\n",
      "epoch 44; iter: 0; batch classifier loss: 0.397951\n",
      "epoch 44; iter: 200; batch classifier loss: 0.445129\n",
      "epoch 45; iter: 0; batch classifier loss: 0.407198\n",
      "epoch 45; iter: 200; batch classifier loss: 0.394514\n",
      "epoch 46; iter: 0; batch classifier loss: 0.379049\n",
      "epoch 46; iter: 200; batch classifier loss: 0.375205\n",
      "epoch 47; iter: 0; batch classifier loss: 0.391506\n",
      "epoch 47; iter: 200; batch classifier loss: 0.453218\n",
      "epoch 48; iter: 0; batch classifier loss: 0.424091\n",
      "epoch 48; iter: 200; batch classifier loss: 0.386260\n",
      "epoch 49; iter: 0; batch classifier loss: 0.379435\n",
      "epoch 49; iter: 200; batch classifier loss: 0.351946\n"
     ]
    },
    {
     "data": {
      "text/plain": [
       "<aif360.algorithms.inprocessing.adversarial_debiasing.AdversarialDebiasing at 0x7f64bd771550>"
      ]
     },
     "execution_count": 9,
     "metadata": {},
     "output_type": "execute_result"
    }
   ],
   "source": [
    "plain_model.fit(dataset_orig_train)"
   ]
  },
  {
   "cell_type": "code",
   "execution_count": 10,
   "metadata": {},
   "outputs": [],
   "source": [
    "# Apply the plain model to test data\n",
    "dataset_nodebiasing_train = plain_model.predict(dataset_orig_train)\n",
    "dataset_nodebiasing_test = plain_model.predict(dataset_orig_test)"
   ]
  },
  {
   "cell_type": "code",
   "execution_count": 11,
   "metadata": {},
   "outputs": [
    {
     "data": {
      "text/markdown": [
       "#### Plain model - without debiasing - dataset metrics"
      ],
      "text/plain": [
       "<IPython.core.display.Markdown object>"
      ]
     },
     "metadata": {},
     "output_type": "display_data"
    },
    {
     "name": "stdout",
     "output_type": "stream",
     "text": [
      "Train set: Difference in mean outcomes between unprivileged and privileged groups = -0.210455\n",
      "Test set: Difference in mean outcomes between unprivileged and privileged groups = -0.206837\n"
     ]
    },
    {
     "data": {
      "text/markdown": [
       "#### Plain model - without debiasing - classification metrics"
      ],
      "text/plain": [
       "<IPython.core.display.Markdown object>"
      ]
     },
     "metadata": {},
     "output_type": "display_data"
    },
    {
     "name": "stdout",
     "output_type": "stream",
     "text": [
      "Test set: Classification accuracy = 0.801474\n",
      "Test set: Balanced classification accuracy = 0.656691\n",
      "Test set: Disparate impact = 0.000000\n",
      "Test set: Equal opportunity difference = -0.444112\n",
      "Test set: Average odds difference = -0.272758\n",
      "Test set: Theil_index = 0.183319\n"
     ]
    }
   ],
   "source": [
    "# Metrics for the dataset from plain model (without debiasing)\n",
    "display(Markdown(\"#### Plain model - without debiasing - dataset metrics\"))\n",
    "metric_dataset_nodebiasing_train = BinaryLabelDatasetMetric(dataset_nodebiasing_train, \n",
    "                                             unprivileged_groups=unprivileged_groups,\n",
    "                                             privileged_groups=privileged_groups)\n",
    "\n",
    "print(\"Train set: Difference in mean outcomes between unprivileged and privileged groups = %f\" % metric_dataset_nodebiasing_train.mean_difference())\n",
    "\n",
    "metric_dataset_nodebiasing_test = BinaryLabelDatasetMetric(dataset_nodebiasing_test, \n",
    "                                             unprivileged_groups=unprivileged_groups,\n",
    "                                             privileged_groups=privileged_groups)\n",
    "\n",
    "print(\"Test set: Difference in mean outcomes between unprivileged and privileged groups = %f\" % metric_dataset_nodebiasing_test.mean_difference())\n",
    "\n",
    "display(Markdown(\"#### Plain model - without debiasing - classification metrics\"))\n",
    "classified_metric_nodebiasing_test = ClassificationMetric(dataset_orig_test, \n",
    "                                                 dataset_nodebiasing_test,\n",
    "                                                 unprivileged_groups=unprivileged_groups,\n",
    "                                                 privileged_groups=privileged_groups)\n",
    "print(\"Test set: Classification accuracy = %f\" % classified_metric_nodebiasing_test.accuracy())\n",
    "TPR = classified_metric_nodebiasing_test.true_positive_rate()\n",
    "TNR = classified_metric_nodebiasing_test.true_negative_rate()\n",
    "bal_acc_nodebiasing_test = 0.5*(TPR+TNR)\n",
    "print(\"Test set: Balanced classification accuracy = %f\" % bal_acc_nodebiasing_test)\n",
    "print(\"Test set: Disparate impact = %f\" % classified_metric_nodebiasing_test.disparate_impact())\n",
    "print(\"Test set: Equal opportunity difference = %f\" % classified_metric_nodebiasing_test.equal_opportunity_difference())\n",
    "print(\"Test set: Average odds difference = %f\" % classified_metric_nodebiasing_test.average_odds_difference())\n",
    "print(\"Test set: Theil_index = %f\" % classified_metric_nodebiasing_test.theil_index())"
   ]
  },
  {
   "cell_type": "markdown",
   "metadata": {},
   "source": [
    "### Apply in-processing algorithm based on adversarial learning"
   ]
  },
  {
   "cell_type": "code",
   "execution_count": 12,
   "metadata": {},
   "outputs": [],
   "source": [
    "sess.close()\n",
    "tf.reset_default_graph()\n",
    "sess = tf.Session()"
   ]
  },
  {
   "cell_type": "code",
   "execution_count": 13,
   "metadata": {},
   "outputs": [],
   "source": [
    "# Learn parameters with debias set to True\n",
    "debiased_model = AdversarialDebiasing(privileged_groups = privileged_groups,\n",
    "                          unprivileged_groups = unprivileged_groups,\n",
    "                          scope_name='debiased_classifier',\n",
    "                          debias=True,\n",
    "                          sess=sess)"
   ]
  },
  {
   "cell_type": "code",
   "execution_count": 14,
   "metadata": {
    "scrolled": true
   },
   "outputs": [
    {
     "name": "stdout",
     "output_type": "stream",
     "text": [
      "epoch 0; iter: 0; batch classifier loss: 0.718750; batch adversarial loss: 0.693419\n",
      "epoch 0; iter: 200; batch classifier loss: 0.483406; batch adversarial loss: 0.650898\n",
      "epoch 1; iter: 0; batch classifier loss: 0.571576; batch adversarial loss: 0.686218\n",
      "epoch 1; iter: 200; batch classifier loss: 0.555408; batch adversarial loss: 0.679587\n",
      "epoch 2; iter: 0; batch classifier loss: 0.528648; batch adversarial loss: 0.624486\n",
      "epoch 2; iter: 200; batch classifier loss: 0.533744; batch adversarial loss: 0.646680\n",
      "epoch 3; iter: 0; batch classifier loss: 0.416740; batch adversarial loss: 0.587934\n",
      "epoch 3; iter: 200; batch classifier loss: 0.410672; batch adversarial loss: 0.602441\n",
      "epoch 4; iter: 0; batch classifier loss: 0.413156; batch adversarial loss: 0.637226\n",
      "epoch 4; iter: 200; batch classifier loss: 0.440639; batch adversarial loss: 0.653229\n",
      "epoch 5; iter: 0; batch classifier loss: 0.471307; batch adversarial loss: 0.651639\n",
      "epoch 5; iter: 200; batch classifier loss: 0.498305; batch adversarial loss: 0.612666\n",
      "epoch 6; iter: 0; batch classifier loss: 0.380551; batch adversarial loss: 0.612859\n",
      "epoch 6; iter: 200; batch classifier loss: 0.375998; batch adversarial loss: 0.572040\n",
      "epoch 7; iter: 0; batch classifier loss: 0.422771; batch adversarial loss: 0.616821\n",
      "epoch 7; iter: 200; batch classifier loss: 0.412963; batch adversarial loss: 0.637792\n",
      "epoch 8; iter: 0; batch classifier loss: 0.395064; batch adversarial loss: 0.643038\n",
      "epoch 8; iter: 200; batch classifier loss: 0.357938; batch adversarial loss: 0.686612\n",
      "epoch 9; iter: 0; batch classifier loss: 0.411878; batch adversarial loss: 0.593691\n",
      "epoch 9; iter: 200; batch classifier loss: 0.431392; batch adversarial loss: 0.650474\n",
      "epoch 10; iter: 0; batch classifier loss: 0.427178; batch adversarial loss: 0.625390\n",
      "epoch 10; iter: 200; batch classifier loss: 0.439061; batch adversarial loss: 0.710758\n",
      "epoch 11; iter: 0; batch classifier loss: 0.348323; batch adversarial loss: 0.596816\n",
      "epoch 11; iter: 200; batch classifier loss: 0.414840; batch adversarial loss: 0.574418\n",
      "epoch 12; iter: 0; batch classifier loss: 0.388093; batch adversarial loss: 0.571959\n",
      "epoch 12; iter: 200; batch classifier loss: 0.434420; batch adversarial loss: 0.587049\n",
      "epoch 13; iter: 0; batch classifier loss: 0.399737; batch adversarial loss: 0.606203\n",
      "epoch 13; iter: 200; batch classifier loss: 0.476984; batch adversarial loss: 0.509330\n",
      "epoch 14; iter: 0; batch classifier loss: 0.405001; batch adversarial loss: 0.596645\n",
      "epoch 14; iter: 200; batch classifier loss: 0.405759; batch adversarial loss: 0.628592\n",
      "epoch 15; iter: 0; batch classifier loss: 0.493484; batch adversarial loss: 0.572889\n",
      "epoch 15; iter: 200; batch classifier loss: 0.393066; batch adversarial loss: 0.645171\n",
      "epoch 16; iter: 0; batch classifier loss: 0.445369; batch adversarial loss: 0.610410\n",
      "epoch 16; iter: 200; batch classifier loss: 0.424330; batch adversarial loss: 0.554087\n",
      "epoch 17; iter: 0; batch classifier loss: 0.446478; batch adversarial loss: 0.567178\n",
      "epoch 17; iter: 200; batch classifier loss: 0.466626; batch adversarial loss: 0.573814\n",
      "epoch 18; iter: 0; batch classifier loss: 0.542207; batch adversarial loss: 0.578456\n",
      "epoch 18; iter: 200; batch classifier loss: 0.399794; batch adversarial loss: 0.564343\n",
      "epoch 19; iter: 0; batch classifier loss: 0.374102; batch adversarial loss: 0.633049\n",
      "epoch 19; iter: 200; batch classifier loss: 0.383259; batch adversarial loss: 0.556963\n",
      "epoch 20; iter: 0; batch classifier loss: 0.472150; batch adversarial loss: 0.596291\n",
      "epoch 20; iter: 200; batch classifier loss: 0.402341; batch adversarial loss: 0.554844\n",
      "epoch 21; iter: 0; batch classifier loss: 0.434554; batch adversarial loss: 0.589680\n",
      "epoch 21; iter: 200; batch classifier loss: 0.392207; batch adversarial loss: 0.577614\n",
      "epoch 22; iter: 0; batch classifier loss: 0.424787; batch adversarial loss: 0.606499\n",
      "epoch 22; iter: 200; batch classifier loss: 0.385177; batch adversarial loss: 0.627657\n",
      "epoch 23; iter: 0; batch classifier loss: 0.458795; batch adversarial loss: 0.599403\n",
      "epoch 23; iter: 200; batch classifier loss: 0.478136; batch adversarial loss: 0.635419\n",
      "epoch 24; iter: 0; batch classifier loss: 0.475478; batch adversarial loss: 0.668516\n",
      "epoch 24; iter: 200; batch classifier loss: 0.349987; batch adversarial loss: 0.631951\n",
      "epoch 25; iter: 0; batch classifier loss: 0.425628; batch adversarial loss: 0.601996\n",
      "epoch 25; iter: 200; batch classifier loss: 0.441606; batch adversarial loss: 0.518324\n",
      "epoch 26; iter: 0; batch classifier loss: 0.458351; batch adversarial loss: 0.614056\n",
      "epoch 26; iter: 200; batch classifier loss: 0.450255; batch adversarial loss: 0.607622\n",
      "epoch 27; iter: 0; batch classifier loss: 0.435545; batch adversarial loss: 0.593149\n",
      "epoch 27; iter: 200; batch classifier loss: 0.451140; batch adversarial loss: 0.592277\n",
      "epoch 28; iter: 0; batch classifier loss: 0.436146; batch adversarial loss: 0.624678\n",
      "epoch 28; iter: 200; batch classifier loss: 0.400607; batch adversarial loss: 0.628932\n",
      "epoch 29; iter: 0; batch classifier loss: 0.427033; batch adversarial loss: 0.621082\n",
      "epoch 29; iter: 200; batch classifier loss: 0.436492; batch adversarial loss: 0.566492\n",
      "epoch 30; iter: 0; batch classifier loss: 0.400945; batch adversarial loss: 0.670095\n",
      "epoch 30; iter: 200; batch classifier loss: 0.415418; batch adversarial loss: 0.615918\n",
      "epoch 31; iter: 0; batch classifier loss: 0.416024; batch adversarial loss: 0.620299\n",
      "epoch 31; iter: 200; batch classifier loss: 0.369822; batch adversarial loss: 0.592548\n",
      "epoch 32; iter: 0; batch classifier loss: 0.380147; batch adversarial loss: 0.642831\n",
      "epoch 32; iter: 200; batch classifier loss: 0.453131; batch adversarial loss: 0.573629\n",
      "epoch 33; iter: 0; batch classifier loss: 0.422523; batch adversarial loss: 0.580739\n",
      "epoch 33; iter: 200; batch classifier loss: 0.453199; batch adversarial loss: 0.606214\n",
      "epoch 34; iter: 0; batch classifier loss: 0.429354; batch adversarial loss: 0.601691\n",
      "epoch 34; iter: 200; batch classifier loss: 0.483064; batch adversarial loss: 0.567513\n",
      "epoch 35; iter: 0; batch classifier loss: 0.534810; batch adversarial loss: 0.605708\n",
      "epoch 35; iter: 200; batch classifier loss: 0.422362; batch adversarial loss: 0.628875\n",
      "epoch 36; iter: 0; batch classifier loss: 0.444541; batch adversarial loss: 0.590666\n",
      "epoch 36; iter: 200; batch classifier loss: 0.416119; batch adversarial loss: 0.636366\n",
      "epoch 37; iter: 0; batch classifier loss: 0.420431; batch adversarial loss: 0.606368\n",
      "epoch 37; iter: 200; batch classifier loss: 0.385924; batch adversarial loss: 0.575752\n",
      "epoch 38; iter: 0; batch classifier loss: 0.373965; batch adversarial loss: 0.657167\n",
      "epoch 38; iter: 200; batch classifier loss: 0.341496; batch adversarial loss: 0.630460\n",
      "epoch 39; iter: 0; batch classifier loss: 0.443180; batch adversarial loss: 0.544945\n",
      "epoch 39; iter: 200; batch classifier loss: 0.487577; batch adversarial loss: 0.581952\n",
      "epoch 40; iter: 0; batch classifier loss: 0.402540; batch adversarial loss: 0.622904\n",
      "epoch 40; iter: 200; batch classifier loss: 0.366519; batch adversarial loss: 0.570087\n",
      "epoch 41; iter: 0; batch classifier loss: 0.529586; batch adversarial loss: 0.587402\n",
      "epoch 41; iter: 200; batch classifier loss: 0.433446; batch adversarial loss: 0.665096\n",
      "epoch 42; iter: 0; batch classifier loss: 0.465044; batch adversarial loss: 0.629615\n",
      "epoch 42; iter: 200; batch classifier loss: 0.419865; batch adversarial loss: 0.603847\n",
      "epoch 43; iter: 0; batch classifier loss: 0.413735; batch adversarial loss: 0.591648\n",
      "epoch 43; iter: 200; batch classifier loss: 0.377847; batch adversarial loss: 0.653651\n",
      "epoch 44; iter: 0; batch classifier loss: 0.448882; batch adversarial loss: 0.594663\n",
      "epoch 44; iter: 200; batch classifier loss: 0.429632; batch adversarial loss: 0.652852\n",
      "epoch 45; iter: 0; batch classifier loss: 0.536003; batch adversarial loss: 0.584570\n",
      "epoch 45; iter: 200; batch classifier loss: 0.443731; batch adversarial loss: 0.577948\n",
      "epoch 46; iter: 0; batch classifier loss: 0.449781; batch adversarial loss: 0.546700\n",
      "epoch 46; iter: 200; batch classifier loss: 0.390381; batch adversarial loss: 0.567431\n",
      "epoch 47; iter: 0; batch classifier loss: 0.410488; batch adversarial loss: 0.519526\n",
      "epoch 47; iter: 200; batch classifier loss: 0.408774; batch adversarial loss: 0.633926\n",
      "epoch 48; iter: 0; batch classifier loss: 0.378605; batch adversarial loss: 0.617625\n",
      "epoch 48; iter: 200; batch classifier loss: 0.360153; batch adversarial loss: 0.646603\n",
      "epoch 49; iter: 0; batch classifier loss: 0.354372; batch adversarial loss: 0.598608\n",
      "epoch 49; iter: 200; batch classifier loss: 0.467023; batch adversarial loss: 0.507969\n"
     ]
    },
    {
     "data": {
      "text/plain": [
       "<aif360.algorithms.inprocessing.adversarial_debiasing.AdversarialDebiasing at 0x7f63c3789400>"
      ]
     },
     "execution_count": 14,
     "metadata": {},
     "output_type": "execute_result"
    }
   ],
   "source": [
    "debiased_model.fit(dataset_orig_train)"
   ]
  },
  {
   "cell_type": "code",
   "execution_count": 15,
   "metadata": {},
   "outputs": [],
   "source": [
    "# Apply the plain model to test data\n",
    "dataset_debiasing_train = debiased_model.predict(dataset_orig_train)\n",
    "dataset_debiasing_test = debiased_model.predict(dataset_orig_test)"
   ]
  },
  {
   "cell_type": "code",
   "execution_count": 16,
   "metadata": {},
   "outputs": [
    {
     "data": {
      "text/markdown": [
       "#### Plain model - without debiasing - dataset metrics"
      ],
      "text/plain": [
       "<IPython.core.display.Markdown object>"
      ]
     },
     "metadata": {},
     "output_type": "display_data"
    },
    {
     "name": "stdout",
     "output_type": "stream",
     "text": [
      "Train set: Difference in mean outcomes between unprivileged and privileged groups = -0.210455\n",
      "Test set: Difference in mean outcomes between unprivileged and privileged groups = -0.206837\n"
     ]
    },
    {
     "data": {
      "text/markdown": [
       "#### Model - with debiasing - dataset metrics"
      ],
      "text/plain": [
       "<IPython.core.display.Markdown object>"
      ]
     },
     "metadata": {},
     "output_type": "display_data"
    },
    {
     "name": "stdout",
     "output_type": "stream",
     "text": [
      "Train set: Difference in mean outcomes between unprivileged and privileged groups = -0.086405\n",
      "Test set: Difference in mean outcomes between unprivileged and privileged groups = -0.088343\n"
     ]
    },
    {
     "data": {
      "text/markdown": [
       "#### Plain model - without debiasing - classification metrics"
      ],
      "text/plain": [
       "<IPython.core.display.Markdown object>"
      ]
     },
     "metadata": {},
     "output_type": "display_data"
    },
    {
     "name": "stdout",
     "output_type": "stream",
     "text": [
      "Test set: Classification accuracy = 0.801474\n",
      "Test set: Balanced classification accuracy = 0.656691\n",
      "Test set: Disparate impact = 0.000000\n",
      "Test set: Equal opportunity difference = -0.444112\n",
      "Test set: Average odds difference = -0.272758\n",
      "Test set: Theil_index = 0.183319\n"
     ]
    },
    {
     "data": {
      "text/markdown": [
       "#### Model - with debiasing - classification metrics"
      ],
      "text/plain": [
       "<IPython.core.display.Markdown object>"
      ]
     },
     "metadata": {},
     "output_type": "display_data"
    },
    {
     "name": "stdout",
     "output_type": "stream",
     "text": [
      "Test set: Classification accuracy = 0.792602\n",
      "Test set: Balanced classification accuracy = 0.669734\n",
      "Test set: Disparate impact = 0.565360\n",
      "Test set: Equal opportunity difference = -0.040387\n",
      "Test set: Average odds difference = -0.030369\n",
      "Test set: Theil_index = 0.174534\n"
     ]
    }
   ],
   "source": [
    "# Metrics for the dataset from plain model (without debiasing)\n",
    "display(Markdown(\"#### Plain model - without debiasing - dataset metrics\"))\n",
    "print(\"Train set: Difference in mean outcomes between unprivileged and privileged groups = %f\" % metric_dataset_nodebiasing_train.mean_difference())\n",
    "print(\"Test set: Difference in mean outcomes between unprivileged and privileged groups = %f\" % metric_dataset_nodebiasing_test.mean_difference())\n",
    "\n",
    "# Metrics for the dataset from model with debiasing\n",
    "display(Markdown(\"#### Model - with debiasing - dataset metrics\"))\n",
    "metric_dataset_debiasing_train = BinaryLabelDatasetMetric(dataset_debiasing_train, \n",
    "                                             unprivileged_groups=unprivileged_groups,\n",
    "                                             privileged_groups=privileged_groups)\n",
    "\n",
    "print(\"Train set: Difference in mean outcomes between unprivileged and privileged groups = %f\" % metric_dataset_debiasing_train.mean_difference())\n",
    "\n",
    "metric_dataset_debiasing_test = BinaryLabelDatasetMetric(dataset_debiasing_test, \n",
    "                                             unprivileged_groups=unprivileged_groups,\n",
    "                                             privileged_groups=privileged_groups)\n",
    "\n",
    "print(\"Test set: Difference in mean outcomes between unprivileged and privileged groups = %f\" % metric_dataset_debiasing_test.mean_difference())\n",
    "\n",
    "\n",
    "\n",
    "display(Markdown(\"#### Plain model - without debiasing - classification metrics\"))\n",
    "print(\"Test set: Classification accuracy = %f\" % classified_metric_nodebiasing_test.accuracy())\n",
    "TPR = classified_metric_nodebiasing_test.true_positive_rate()\n",
    "TNR = classified_metric_nodebiasing_test.true_negative_rate()\n",
    "bal_acc_nodebiasing_test = 0.5*(TPR+TNR)\n",
    "print(\"Test set: Balanced classification accuracy = %f\" % bal_acc_nodebiasing_test)\n",
    "print(\"Test set: Disparate impact = %f\" % classified_metric_nodebiasing_test.disparate_impact())\n",
    "print(\"Test set: Equal opportunity difference = %f\" % classified_metric_nodebiasing_test.equal_opportunity_difference())\n",
    "print(\"Test set: Average odds difference = %f\" % classified_metric_nodebiasing_test.average_odds_difference())\n",
    "print(\"Test set: Theil_index = %f\" % classified_metric_nodebiasing_test.theil_index())\n",
    "\n",
    "\n",
    "\n",
    "display(Markdown(\"#### Model - with debiasing - classification metrics\"))\n",
    "classified_metric_debiasing_test = ClassificationMetric(dataset_orig_test, \n",
    "                                                 dataset_debiasing_test,\n",
    "                                                 unprivileged_groups=unprivileged_groups,\n",
    "                                                 privileged_groups=privileged_groups)\n",
    "print(\"Test set: Classification accuracy = %f\" % classified_metric_debiasing_test.accuracy())\n",
    "TPR = classified_metric_debiasing_test.true_positive_rate()\n",
    "TNR = classified_metric_debiasing_test.true_negative_rate()\n",
    "bal_acc_debiasing_test = 0.5*(TPR+TNR)\n",
    "print(\"Test set: Balanced classification accuracy = %f\" % bal_acc_debiasing_test)\n",
    "print(\"Test set: Disparate impact = %f\" % classified_metric_debiasing_test.disparate_impact())\n",
    "print(\"Test set: Equal opportunity difference = %f\" % classified_metric_debiasing_test.equal_opportunity_difference())\n",
    "print(\"Test set: Average odds difference = %f\" % classified_metric_debiasing_test.average_odds_difference())\n",
    "print(\"Test set: Theil_index = %f\" % classified_metric_debiasing_test.theil_index())"
   ]
  },
  {
   "cell_type": "markdown",
   "metadata": {},
   "source": [
    "\n",
    "    References:\n",
    "    [1] B. H. Zhang, B. Lemoine, and M. Mitchell, \"Mitigating UnwantedBiases with Adversarial Learning,\" \n",
    "    AAAI/ACM Conference on Artificial Intelligence, Ethics, and Society, 2018."
   ]
  },
  {
   "cell_type": "code",
   "execution_count": 17,
   "metadata": {},
   "outputs": [],
   "source": [
    "sess.close()\n",
    "tf.reset_default_graph()\n",
    "sess = tf.Session()"
   ]
  },
  {
   "cell_type": "code",
   "execution_count": 18,
   "metadata": {},
   "outputs": [
    {
     "name": "stdout",
     "output_type": "stream",
     "text": [
      "epoch 0; iter: 0; batch classifier loss: 0.683797; batch adversarial loss: 0.755281\n",
      "epoch 0; iter: 200; batch classifier loss: 0.550037; batch adversarial loss: 0.727945\n",
      "epoch 1; iter: 0; batch classifier loss: 0.688435; batch adversarial loss: 0.682828\n",
      "epoch 1; iter: 200; batch classifier loss: 0.482157; batch adversarial loss: 0.652845\n",
      "epoch 2; iter: 0; batch classifier loss: 0.515063; batch adversarial loss: 0.658760\n",
      "epoch 2; iter: 200; batch classifier loss: 0.324849; batch adversarial loss: 0.642040\n",
      "epoch 3; iter: 0; batch classifier loss: 0.477608; batch adversarial loss: 0.625772\n",
      "epoch 3; iter: 200; batch classifier loss: 0.404170; batch adversarial loss: 0.648867\n",
      "epoch 4; iter: 0; batch classifier loss: 0.462056; batch adversarial loss: 0.662486\n",
      "epoch 4; iter: 200; batch classifier loss: 0.386695; batch adversarial loss: 0.604904\n",
      "epoch 5; iter: 0; batch classifier loss: 0.352023; batch adversarial loss: 0.619014\n",
      "epoch 5; iter: 200; batch classifier loss: 0.419654; batch adversarial loss: 0.623124\n",
      "epoch 6; iter: 0; batch classifier loss: 0.347629; batch adversarial loss: 0.574943\n",
      "epoch 6; iter: 200; batch classifier loss: 0.459098; batch adversarial loss: 0.598865\n",
      "epoch 7; iter: 0; batch classifier loss: 0.457208; batch adversarial loss: 0.603920\n",
      "epoch 7; iter: 200; batch classifier loss: 0.388462; batch adversarial loss: 0.611463\n",
      "epoch 8; iter: 0; batch classifier loss: 0.381333; batch adversarial loss: 0.602251\n",
      "epoch 8; iter: 200; batch classifier loss: 0.461637; batch adversarial loss: 0.596679\n",
      "epoch 9; iter: 0; batch classifier loss: 0.445188; batch adversarial loss: 0.643732\n",
      "epoch 9; iter: 200; batch classifier loss: 0.364782; batch adversarial loss: 0.645831\n",
      "epoch 10; iter: 0; batch classifier loss: 0.567595; batch adversarial loss: 0.576053\n",
      "epoch 10; iter: 200; batch classifier loss: 0.453722; batch adversarial loss: 0.646840\n",
      "epoch 11; iter: 0; batch classifier loss: 0.435539; batch adversarial loss: 0.569033\n",
      "epoch 11; iter: 200; batch classifier loss: 0.460782; batch adversarial loss: 0.599563\n",
      "epoch 12; iter: 0; batch classifier loss: 0.540370; batch adversarial loss: 0.569486\n",
      "epoch 12; iter: 200; batch classifier loss: 0.430560; batch adversarial loss: 0.588967\n",
      "epoch 13; iter: 0; batch classifier loss: 0.402706; batch adversarial loss: 0.596751\n",
      "epoch 13; iter: 200; batch classifier loss: 0.459911; batch adversarial loss: 0.638960\n",
      "epoch 14; iter: 0; batch classifier loss: 0.379983; batch adversarial loss: 0.618083\n",
      "epoch 14; iter: 200; batch classifier loss: 0.489001; batch adversarial loss: 0.636536\n",
      "epoch 15; iter: 0; batch classifier loss: 0.367510; batch adversarial loss: 0.624047\n",
      "epoch 15; iter: 200; batch classifier loss: 0.424058; batch adversarial loss: 0.651085\n",
      "epoch 16; iter: 0; batch classifier loss: 0.420084; batch adversarial loss: 0.621799\n",
      "epoch 16; iter: 200; batch classifier loss: 0.492517; batch adversarial loss: 0.610643\n",
      "epoch 17; iter: 0; batch classifier loss: 0.445816; batch adversarial loss: 0.651817\n",
      "epoch 17; iter: 200; batch classifier loss: 0.383111; batch adversarial loss: 0.625421\n",
      "epoch 18; iter: 0; batch classifier loss: 0.386442; batch adversarial loss: 0.556729\n",
      "epoch 18; iter: 200; batch classifier loss: 0.342577; batch adversarial loss: 0.586931\n",
      "epoch 19; iter: 0; batch classifier loss: 0.437691; batch adversarial loss: 0.598622\n",
      "epoch 19; iter: 200; batch classifier loss: 0.456708; batch adversarial loss: 0.537264\n",
      "epoch 20; iter: 0; batch classifier loss: 0.414632; batch adversarial loss: 0.637414\n",
      "epoch 20; iter: 200; batch classifier loss: 0.419487; batch adversarial loss: 0.580774\n",
      "epoch 21; iter: 0; batch classifier loss: 0.471107; batch adversarial loss: 0.660699\n",
      "epoch 21; iter: 200; batch classifier loss: 0.435041; batch adversarial loss: 0.627700\n",
      "epoch 22; iter: 0; batch classifier loss: 0.419866; batch adversarial loss: 0.597355\n",
      "epoch 22; iter: 200; batch classifier loss: 0.472351; batch adversarial loss: 0.604967\n",
      "epoch 23; iter: 0; batch classifier loss: 0.447099; batch adversarial loss: 0.645588\n",
      "epoch 23; iter: 200; batch classifier loss: 0.396020; batch adversarial loss: 0.585472\n",
      "epoch 24; iter: 0; batch classifier loss: 0.441292; batch adversarial loss: 0.624168\n",
      "epoch 24; iter: 200; batch classifier loss: 0.349949; batch adversarial loss: 0.601486\n",
      "epoch 25; iter: 0; batch classifier loss: 0.447474; batch adversarial loss: 0.597823\n",
      "epoch 25; iter: 200; batch classifier loss: 0.463346; batch adversarial loss: 0.595205\n",
      "epoch 26; iter: 0; batch classifier loss: 0.351952; batch adversarial loss: 0.654314\n",
      "epoch 26; iter: 200; batch classifier loss: 0.489941; batch adversarial loss: 0.652467\n",
      "epoch 27; iter: 0; batch classifier loss: 0.426015; batch adversarial loss: 0.595998\n",
      "epoch 27; iter: 200; batch classifier loss: 0.429516; batch adversarial loss: 0.595661\n",
      "epoch 28; iter: 0; batch classifier loss: 0.440291; batch adversarial loss: 0.582377\n",
      "epoch 28; iter: 200; batch classifier loss: 0.425369; batch adversarial loss: 0.650558\n",
      "epoch 29; iter: 0; batch classifier loss: 0.414504; batch adversarial loss: 0.603781\n",
      "epoch 29; iter: 200; batch classifier loss: 0.487327; batch adversarial loss: 0.547304\n",
      "epoch 30; iter: 0; batch classifier loss: 0.466079; batch adversarial loss: 0.633488\n",
      "epoch 30; iter: 200; batch classifier loss: 0.383087; batch adversarial loss: 0.615257\n",
      "epoch 31; iter: 0; batch classifier loss: 0.429132; batch adversarial loss: 0.616329\n",
      "epoch 31; iter: 200; batch classifier loss: 0.432675; batch adversarial loss: 0.590491\n",
      "epoch 32; iter: 0; batch classifier loss: 0.512980; batch adversarial loss: 0.603220\n",
      "epoch 32; iter: 200; batch classifier loss: 0.517814; batch adversarial loss: 0.558934\n",
      "epoch 33; iter: 0; batch classifier loss: 0.428686; batch adversarial loss: 0.622786\n",
      "epoch 33; iter: 200; batch classifier loss: 0.494922; batch adversarial loss: 0.528435\n",
      "epoch 34; iter: 0; batch classifier loss: 0.418446; batch adversarial loss: 0.588808\n",
      "epoch 34; iter: 200; batch classifier loss: 0.469021; batch adversarial loss: 0.588334\n",
      "epoch 35; iter: 0; batch classifier loss: 0.405023; batch adversarial loss: 0.666575\n",
      "epoch 35; iter: 200; batch classifier loss: 0.436816; batch adversarial loss: 0.584877\n",
      "epoch 36; iter: 0; batch classifier loss: 0.390115; batch adversarial loss: 0.648875\n",
      "epoch 36; iter: 200; batch classifier loss: 0.399981; batch adversarial loss: 0.590193\n",
      "epoch 37; iter: 0; batch classifier loss: 0.436812; batch adversarial loss: 0.563274\n",
      "epoch 37; iter: 200; batch classifier loss: 0.548708; batch adversarial loss: 0.677711\n",
      "epoch 38; iter: 0; batch classifier loss: 0.435872; batch adversarial loss: 0.598793\n",
      "epoch 38; iter: 200; batch classifier loss: 0.419207; batch adversarial loss: 0.647989\n",
      "epoch 39; iter: 0; batch classifier loss: 0.391325; batch adversarial loss: 0.624997\n",
      "epoch 39; iter: 200; batch classifier loss: 0.435225; batch adversarial loss: 0.578771\n",
      "epoch 40; iter: 0; batch classifier loss: 0.425794; batch adversarial loss: 0.657397\n",
      "epoch 40; iter: 200; batch classifier loss: 0.392271; batch adversarial loss: 0.666889\n",
      "epoch 41; iter: 0; batch classifier loss: 0.414682; batch adversarial loss: 0.632845\n",
      "epoch 41; iter: 200; batch classifier loss: 0.353765; batch adversarial loss: 0.610193\n",
      "epoch 42; iter: 0; batch classifier loss: 0.468774; batch adversarial loss: 0.586437\n",
      "epoch 42; iter: 200; batch classifier loss: 0.398762; batch adversarial loss: 0.598701\n",
      "epoch 43; iter: 0; batch classifier loss: 0.476121; batch adversarial loss: 0.599681\n",
      "epoch 43; iter: 200; batch classifier loss: 0.332090; batch adversarial loss: 0.587599\n",
      "epoch 44; iter: 0; batch classifier loss: 0.429248; batch adversarial loss: 0.616638\n",
      "epoch 44; iter: 200; batch classifier loss: 0.436578; batch adversarial loss: 0.581916\n",
      "epoch 45; iter: 0; batch classifier loss: 0.424090; batch adversarial loss: 0.632114\n",
      "epoch 45; iter: 200; batch classifier loss: 0.381606; batch adversarial loss: 0.593384\n",
      "epoch 46; iter: 0; batch classifier loss: 0.410933; batch adversarial loss: 0.636826\n",
      "epoch 46; iter: 200; batch classifier loss: 0.378088; batch adversarial loss: 0.620818\n",
      "epoch 47; iter: 0; batch classifier loss: 0.456298; batch adversarial loss: 0.586351\n",
      "epoch 47; iter: 200; batch classifier loss: 0.381999; batch adversarial loss: 0.630369\n",
      "epoch 48; iter: 0; batch classifier loss: 0.448473; batch adversarial loss: 0.534091\n",
      "epoch 48; iter: 200; batch classifier loss: 0.435268; batch adversarial loss: 0.573959\n",
      "epoch 49; iter: 0; batch classifier loss: 0.377434; batch adversarial loss: 0.577979\n",
      "epoch 49; iter: 200; batch classifier loss: 0.434315; batch adversarial loss: 0.555149\n"
     ]
    },
    {
     "data": {
      "text/markdown": [
       "#### Plain model - without debiasing - dataset metrics"
      ],
      "text/plain": [
       "<IPython.core.display.Markdown object>"
      ]
     },
     "metadata": {},
     "output_type": "display_data"
    },
    {
     "name": "stdout",
     "output_type": "stream",
     "text": [
      "Train set: Difference in mean outcomes between unprivileged and privileged groups = -0.210455\n",
      "Test set: Difference in mean outcomes between unprivileged and privileged groups = -0.206837\n"
     ]
    },
    {
     "data": {
      "text/markdown": [
       "#### Model - with debiasing - dataset metrics"
      ],
      "text/plain": [
       "<IPython.core.display.Markdown object>"
      ]
     },
     "metadata": {},
     "output_type": "display_data"
    },
    {
     "name": "stdout",
     "output_type": "stream",
     "text": [
      "Train set: Difference in mean outcomes between unprivileged and privileged groups = -0.086405\n",
      "Test set: Difference in mean outcomes between unprivileged and privileged groups = -0.088343\n"
     ]
    },
    {
     "data": {
      "text/markdown": [
       "#### Model - with error debiasing - dataset metrics"
      ],
      "text/plain": [
       "<IPython.core.display.Markdown object>"
      ]
     },
     "metadata": {},
     "output_type": "display_data"
    },
    {
     "name": "stdout",
     "output_type": "stream",
     "text": [
      "Train set: Difference in mean outcomes between unprivileged and privileged groups = -0.078092\n",
      "Test set: Difference in mean outcomes between unprivileged and privileged groups = -0.076155\n"
     ]
    },
    {
     "data": {
      "text/markdown": [
       "#### Plain model - without debiasing - classification metrics"
      ],
      "text/plain": [
       "<IPython.core.display.Markdown object>"
      ]
     },
     "metadata": {},
     "output_type": "display_data"
    },
    {
     "name": "stdout",
     "output_type": "stream",
     "text": [
      "Test set: Classification accuracy = 0.801474\n",
      "Test set: Balanced classification accuracy = 0.656691\n",
      "Test set: Disparate impact = 0.000000\n",
      "Test set: Equal opportunity difference = -0.444112\n",
      "Test set: Average odds difference = -0.272758\n",
      "Test set: Theil_index = 0.183319\n"
     ]
    },
    {
     "data": {
      "text/markdown": [
       "#### Model - with debiasing - classification metrics"
      ],
      "text/plain": [
       "<IPython.core.display.Markdown object>"
      ]
     },
     "metadata": {},
     "output_type": "display_data"
    },
    {
     "name": "stdout",
     "output_type": "stream",
     "text": [
      "Test set: Classification accuracy = 0.792602\n",
      "Test set: Balanced classification accuracy = 0.669734\n",
      "Test set: Disparate impact = 0.565360\n",
      "Test set: Equal opportunity difference = -0.040387\n",
      "Test set: Average odds difference = -0.030369\n",
      "Test set: Theil_index = 0.174534\n"
     ]
    },
    {
     "data": {
      "text/markdown": [
       "#### Model - with error debiasing - classification metrics"
      ],
      "text/plain": [
       "<IPython.core.display.Markdown object>"
      ]
     },
     "metadata": {},
     "output_type": "display_data"
    },
    {
     "name": "stdout",
     "output_type": "stream",
     "text": [
      "Test set: Classification accuracy = 0.790760\n",
      "Test set: Balanced classification accuracy = 0.670140\n",
      "Test set: Disparate impact = 0.625511\n",
      "Test set: Equal opportunity difference = -0.009590\n",
      "Test set: Average odds difference = -0.010079\n",
      "Test set: Theil_index = 0.174065\n"
     ]
    }
   ],
   "source": [
    "# Error debiasing\n",
    "# Learn parameters with debias set to True\n",
    "debiased_model2 = AdversarialErrorDebiasing(privileged_groups = privileged_groups,\n",
    "                          unprivileged_groups = unprivileged_groups,\n",
    "                          scope_name='debiasede_classifier',\n",
    "                          debias=True,\n",
    "                          sess=sess)\n",
    "debiased_model2.fit(dataset_orig_train)\n",
    "\n",
    "# Apply the plain model to test data\n",
    "dataset_debiasing_train2 = debiased_model2.predict(dataset_orig_train)\n",
    "dataset_debiasing_test2 = debiased_model2.predict(dataset_orig_test)\n",
    "\n",
    "# Metrics for the dataset from plain model (without debiasing)\n",
    "display(Markdown(\"#### Plain model - without debiasing - dataset metrics\"))\n",
    "print(\"Train set: Difference in mean outcomes between unprivileged and privileged groups = %f\" % metric_dataset_nodebiasing_train.mean_difference())\n",
    "print(\"Test set: Difference in mean outcomes between unprivileged and privileged groups = %f\" % metric_dataset_nodebiasing_test.mean_difference())\n",
    "\n",
    "# Metrics for the dataset from model with debiasing\n",
    "display(Markdown(\"#### Model - with debiasing - dataset metrics\"))\n",
    "metric_dataset_debiasing_train = BinaryLabelDatasetMetric(dataset_debiasing_train, \n",
    "                                             unprivileged_groups=unprivileged_groups,\n",
    "                                             privileged_groups=privileged_groups)\n",
    "\n",
    "print(\"Train set: Difference in mean outcomes between unprivileged and privileged groups = %f\" % metric_dataset_debiasing_train.mean_difference())\n",
    "\n",
    "metric_dataset_debiasing_test = BinaryLabelDatasetMetric(dataset_debiasing_test, \n",
    "                                             unprivileged_groups=unprivileged_groups,\n",
    "                                             privileged_groups=privileged_groups)\n",
    "\n",
    "print(\"Test set: Difference in mean outcomes between unprivileged and privileged groups = %f\" % metric_dataset_debiasing_test.mean_difference())\n",
    "\n",
    "# Metrics for the dataset from model with error debiasing\n",
    "display(Markdown(\"#### Model - with error debiasing - dataset metrics\"))\n",
    "metric_dataset_debiasing_train2 = BinaryLabelDatasetMetric(dataset_debiasing_train2, \n",
    "                                             unprivileged_groups=unprivileged_groups,\n",
    "                                             privileged_groups=privileged_groups)\n",
    "\n",
    "print(\"Train set: Difference in mean outcomes between unprivileged and privileged groups = %f\" % metric_dataset_debiasing_train2.mean_difference())\n",
    "\n",
    "metric_dataset_debiasing_test2 = BinaryLabelDatasetMetric(dataset_debiasing_test2, \n",
    "                                             unprivileged_groups=unprivileged_groups,\n",
    "                                             privileged_groups=privileged_groups)\n",
    "\n",
    "print(\"Test set: Difference in mean outcomes between unprivileged and privileged groups = %f\" % metric_dataset_debiasing_test2.mean_difference())\n",
    "\n",
    "\n",
    "\n",
    "display(Markdown(\"#### Plain model - without debiasing - classification metrics\"))\n",
    "print(\"Test set: Classification accuracy = %f\" % classified_metric_nodebiasing_test.accuracy())\n",
    "TPR = classified_metric_nodebiasing_test.true_positive_rate()\n",
    "TNR = classified_metric_nodebiasing_test.true_negative_rate()\n",
    "bal_acc_nodebiasing_test = 0.5*(TPR+TNR)\n",
    "print(\"Test set: Balanced classification accuracy = %f\" % bal_acc_nodebiasing_test)\n",
    "print(\"Test set: Disparate impact = %f\" % classified_metric_nodebiasing_test.disparate_impact())\n",
    "print(\"Test set: Equal opportunity difference = %f\" % classified_metric_nodebiasing_test.equal_opportunity_difference())\n",
    "print(\"Test set: Average odds difference = %f\" % classified_metric_nodebiasing_test.average_odds_difference())\n",
    "print(\"Test set: Theil_index = %f\" % classified_metric_nodebiasing_test.theil_index())\n",
    "\n",
    "\n",
    "\n",
    "display(Markdown(\"#### Model - with debiasing - classification metrics\"))\n",
    "classified_metric_debiasing_test = ClassificationMetric(dataset_orig_test, \n",
    "                                                 dataset_debiasing_test,\n",
    "                                                 unprivileged_groups=unprivileged_groups,\n",
    "                                                 privileged_groups=privileged_groups)\n",
    "print(\"Test set: Classification accuracy = %f\" % classified_metric_debiasing_test.accuracy())\n",
    "TPR = classified_metric_debiasing_test.true_positive_rate()\n",
    "TNR = classified_metric_debiasing_test.true_negative_rate()\n",
    "bal_acc_debiasing_test = 0.5*(TPR+TNR)\n",
    "print(\"Test set: Balanced classification accuracy = %f\" % bal_acc_debiasing_test)\n",
    "print(\"Test set: Disparate impact = %f\" % classified_metric_debiasing_test.disparate_impact())\n",
    "print(\"Test set: Equal opportunity difference = %f\" % classified_metric_debiasing_test.equal_opportunity_difference())\n",
    "print(\"Test set: Average odds difference = %f\" % classified_metric_debiasing_test.average_odds_difference())\n",
    "print(\"Test set: Theil_index = %f\" % classified_metric_debiasing_test.theil_index())\n",
    "\n",
    "\n",
    "\n",
    "display(Markdown(\"#### Model - with error debiasing - classification metrics\"))\n",
    "classified_metric_debiasing_test2 = ClassificationMetric(dataset_orig_test, \n",
    "                                                 dataset_debiasing_test2,\n",
    "                                                 unprivileged_groups=unprivileged_groups,\n",
    "                                                 privileged_groups=privileged_groups)\n",
    "print(\"Test set: Classification accuracy = %f\" % classified_metric_debiasing_test2.accuracy())\n",
    "TPR = classified_metric_debiasing_test2.true_positive_rate()\n",
    "TNR = classified_metric_debiasing_test2.true_negative_rate()\n",
    "bal_acc_debiasing_test2 = 0.5*(TPR+TNR)\n",
    "print(\"Test set: Balanced classification accuracy = %f\" % bal_acc_debiasing_test2)\n",
    "print(\"Test set: Disparate impact = %f\" % classified_metric_debiasing_test2.disparate_impact())\n",
    "print(\"Test set: Equal opportunity difference = %f\" % classified_metric_debiasing_test2.equal_opportunity_difference())\n",
    "print(\"Test set: Average odds difference = %f\" % classified_metric_debiasing_test2.average_odds_difference())\n",
    "print(\"Test set: Theil_index = %f\" % classified_metric_debiasing_test2.theil_index())"
   ]
  },
  {
   "cell_type": "code",
   "execution_count": 19,
   "metadata": {},
   "outputs": [],
   "source": [
    "sess.close()\n",
    "tf.reset_default_graph()\n",
    "sess = tf.Session()"
   ]
  },
  {
   "cell_type": "code",
   "execution_count": 20,
   "metadata": {},
   "outputs": [
    {
     "name": "stdout",
     "output_type": "stream",
     "text": [
      "epoch 0; iter: 0; batch classifier loss: 0.708291; batch adversarial loss: 0.937322\n",
      "epoch 0; iter: 200; batch classifier loss: 0.569984; batch adversarial loss: 0.857559\n",
      "epoch 1; iter: 0; batch classifier loss: 0.541225; batch adversarial loss: 0.801067\n",
      "epoch 1; iter: 200; batch classifier loss: 0.451444; batch adversarial loss: 0.712054\n",
      "epoch 2; iter: 0; batch classifier loss: 0.494566; batch adversarial loss: 0.711163\n",
      "epoch 2; iter: 200; batch classifier loss: 0.415045; batch adversarial loss: 0.678254\n",
      "epoch 3; iter: 0; batch classifier loss: 0.415971; batch adversarial loss: 0.664181\n",
      "epoch 3; iter: 200; batch classifier loss: 0.392761; batch adversarial loss: 0.663756\n",
      "epoch 4; iter: 0; batch classifier loss: 0.417671; batch adversarial loss: 0.651717\n",
      "epoch 4; iter: 200; batch classifier loss: 0.568655; batch adversarial loss: 0.639279\n",
      "epoch 5; iter: 0; batch classifier loss: 0.467180; batch adversarial loss: 0.666735\n",
      "epoch 5; iter: 200; batch classifier loss: 0.377802; batch adversarial loss: 0.653173\n",
      "epoch 6; iter: 0; batch classifier loss: 0.418428; batch adversarial loss: 0.614176\n",
      "epoch 6; iter: 200; batch classifier loss: 0.415287; batch adversarial loss: 0.619347\n",
      "epoch 7; iter: 0; batch classifier loss: 0.457275; batch adversarial loss: 0.621088\n",
      "epoch 7; iter: 200; batch classifier loss: 0.504890; batch adversarial loss: 0.625853\n",
      "epoch 8; iter: 0; batch classifier loss: 0.376764; batch adversarial loss: 0.608492\n",
      "epoch 8; iter: 200; batch classifier loss: 0.389420; batch adversarial loss: 0.582194\n",
      "epoch 9; iter: 0; batch classifier loss: 0.505612; batch adversarial loss: 0.576822\n",
      "epoch 9; iter: 200; batch classifier loss: 0.372585; batch adversarial loss: 0.604492\n",
      "epoch 10; iter: 0; batch classifier loss: 0.454173; batch adversarial loss: 0.608520\n",
      "epoch 10; iter: 200; batch classifier loss: 0.480685; batch adversarial loss: 0.587384\n",
      "epoch 11; iter: 0; batch classifier loss: 0.408618; batch adversarial loss: 0.589994\n",
      "epoch 11; iter: 200; batch classifier loss: 0.405318; batch adversarial loss: 0.555018\n",
      "epoch 12; iter: 0; batch classifier loss: 0.529251; batch adversarial loss: 0.619136\n",
      "epoch 12; iter: 200; batch classifier loss: 0.403571; batch adversarial loss: 0.592062\n",
      "epoch 13; iter: 0; batch classifier loss: 0.394431; batch adversarial loss: 0.599639\n",
      "epoch 13; iter: 200; batch classifier loss: 0.483198; batch adversarial loss: 0.603113\n",
      "epoch 14; iter: 0; batch classifier loss: 0.368358; batch adversarial loss: 0.577756\n",
      "epoch 14; iter: 200; batch classifier loss: 0.511054; batch adversarial loss: 0.618356\n",
      "epoch 15; iter: 0; batch classifier loss: 0.425600; batch adversarial loss: 0.557925\n",
      "epoch 15; iter: 200; batch classifier loss: 0.382322; batch adversarial loss: 0.616383\n",
      "epoch 16; iter: 0; batch classifier loss: 0.401784; batch adversarial loss: 0.589606\n",
      "epoch 16; iter: 200; batch classifier loss: 0.328215; batch adversarial loss: 0.600154\n",
      "epoch 17; iter: 0; batch classifier loss: 0.411273; batch adversarial loss: 0.646870\n",
      "epoch 17; iter: 200; batch classifier loss: 0.326665; batch adversarial loss: 0.693055\n",
      "epoch 18; iter: 0; batch classifier loss: 0.406382; batch adversarial loss: 0.586115\n",
      "epoch 18; iter: 200; batch classifier loss: 0.433112; batch adversarial loss: 0.629272\n",
      "epoch 19; iter: 0; batch classifier loss: 0.476359; batch adversarial loss: 0.618261\n",
      "epoch 19; iter: 200; batch classifier loss: 0.505218; batch adversarial loss: 0.633596\n",
      "epoch 20; iter: 0; batch classifier loss: 0.357023; batch adversarial loss: 0.649867\n",
      "epoch 20; iter: 200; batch classifier loss: 0.437573; batch adversarial loss: 0.625806\n",
      "epoch 21; iter: 0; batch classifier loss: 0.457728; batch adversarial loss: 0.595504\n",
      "epoch 21; iter: 200; batch classifier loss: 0.381026; batch adversarial loss: 0.624978\n",
      "epoch 22; iter: 0; batch classifier loss: 0.425513; batch adversarial loss: 0.601441\n",
      "epoch 22; iter: 200; batch classifier loss: 0.373924; batch adversarial loss: 0.594925\n",
      "epoch 23; iter: 0; batch classifier loss: 0.377732; batch adversarial loss: 0.588915\n",
      "epoch 23; iter: 200; batch classifier loss: 0.404380; batch adversarial loss: 0.648980\n",
      "epoch 24; iter: 0; batch classifier loss: 0.411760; batch adversarial loss: 0.603215\n",
      "epoch 24; iter: 200; batch classifier loss: 0.534308; batch adversarial loss: 0.658115\n",
      "epoch 25; iter: 0; batch classifier loss: 0.481392; batch adversarial loss: 0.674655\n",
      "epoch 25; iter: 200; batch classifier loss: 0.364086; batch adversarial loss: 0.660961\n",
      "epoch 26; iter: 0; batch classifier loss: 0.448723; batch adversarial loss: 0.582747\n",
      "epoch 26; iter: 200; batch classifier loss: 0.421916; batch adversarial loss: 0.590550\n",
      "epoch 27; iter: 0; batch classifier loss: 0.433682; batch adversarial loss: 0.597746\n",
      "epoch 27; iter: 200; batch classifier loss: 0.393285; batch adversarial loss: 0.578804\n",
      "epoch 28; iter: 0; batch classifier loss: 0.456088; batch adversarial loss: 0.602933\n",
      "epoch 28; iter: 200; batch classifier loss: 0.362780; batch adversarial loss: 0.590499\n",
      "epoch 29; iter: 0; batch classifier loss: 0.388991; batch adversarial loss: 0.597567\n",
      "epoch 29; iter: 200; batch classifier loss: 0.418080; batch adversarial loss: 0.570871\n",
      "epoch 30; iter: 0; batch classifier loss: 0.467832; batch adversarial loss: 0.577826\n",
      "epoch 30; iter: 200; batch classifier loss: 0.341164; batch adversarial loss: 0.660262\n",
      "epoch 31; iter: 0; batch classifier loss: 0.380402; batch adversarial loss: 0.598974\n",
      "epoch 31; iter: 200; batch classifier loss: 0.450696; batch adversarial loss: 0.573161\n",
      "epoch 32; iter: 0; batch classifier loss: 0.439215; batch adversarial loss: 0.617288\n",
      "epoch 32; iter: 200; batch classifier loss: 0.450798; batch adversarial loss: 0.621666\n",
      "epoch 33; iter: 0; batch classifier loss: 0.375323; batch adversarial loss: 0.705461\n",
      "epoch 33; iter: 200; batch classifier loss: 0.382963; batch adversarial loss: 0.664821\n",
      "epoch 34; iter: 0; batch classifier loss: 0.472349; batch adversarial loss: 0.572746\n",
      "epoch 34; iter: 200; batch classifier loss: 0.448256; batch adversarial loss: 0.641619\n",
      "epoch 35; iter: 0; batch classifier loss: 0.324619; batch adversarial loss: 0.598921\n",
      "epoch 35; iter: 200; batch classifier loss: 0.396331; batch adversarial loss: 0.601523\n",
      "epoch 36; iter: 0; batch classifier loss: 0.392081; batch adversarial loss: 0.609290\n",
      "epoch 36; iter: 200; batch classifier loss: 0.461201; batch adversarial loss: 0.634186\n",
      "epoch 37; iter: 0; batch classifier loss: 0.428337; batch adversarial loss: 0.598048\n",
      "epoch 37; iter: 200; batch classifier loss: 0.452817; batch adversarial loss: 0.606794\n",
      "epoch 38; iter: 0; batch classifier loss: 0.458617; batch adversarial loss: 0.683003\n",
      "epoch 38; iter: 200; batch classifier loss: 0.401975; batch adversarial loss: 0.611442\n",
      "epoch 39; iter: 0; batch classifier loss: 0.437317; batch adversarial loss: 0.611590\n",
      "epoch 39; iter: 200; batch classifier loss: 0.451079; batch adversarial loss: 0.596360\n",
      "epoch 40; iter: 0; batch classifier loss: 0.357667; batch adversarial loss: 0.679110\n",
      "epoch 40; iter: 200; batch classifier loss: 0.518250; batch adversarial loss: 0.600046\n",
      "epoch 41; iter: 0; batch classifier loss: 0.474939; batch adversarial loss: 0.551763\n",
      "epoch 41; iter: 200; batch classifier loss: 0.441866; batch adversarial loss: 0.596697\n",
      "epoch 42; iter: 0; batch classifier loss: 0.428742; batch adversarial loss: 0.586514\n",
      "epoch 42; iter: 200; batch classifier loss: 0.474190; batch adversarial loss: 0.591719\n",
      "epoch 43; iter: 0; batch classifier loss: 0.472980; batch adversarial loss: 0.640906\n",
      "epoch 43; iter: 200; batch classifier loss: 0.449000; batch adversarial loss: 0.603809\n",
      "epoch 44; iter: 0; batch classifier loss: 0.447951; batch adversarial loss: 0.587058\n",
      "epoch 44; iter: 200; batch classifier loss: 0.509415; batch adversarial loss: 0.622767\n",
      "epoch 45; iter: 0; batch classifier loss: 0.404821; batch adversarial loss: 0.610688\n",
      "epoch 45; iter: 200; batch classifier loss: 0.384926; batch adversarial loss: 0.593865\n",
      "epoch 46; iter: 0; batch classifier loss: 0.418902; batch adversarial loss: 0.599607\n",
      "epoch 46; iter: 200; batch classifier loss: 0.470256; batch adversarial loss: 0.618399\n",
      "epoch 47; iter: 0; batch classifier loss: 0.450931; batch adversarial loss: 0.588859\n",
      "epoch 47; iter: 200; batch classifier loss: 0.479702; batch adversarial loss: 0.555019\n",
      "epoch 48; iter: 0; batch classifier loss: 0.461616; batch adversarial loss: 0.638702\n",
      "epoch 48; iter: 200; batch classifier loss: 0.550574; batch adversarial loss: 0.646348\n",
      "epoch 49; iter: 0; batch classifier loss: 0.355594; batch adversarial loss: 0.615673\n",
      "epoch 49; iter: 200; batch classifier loss: 0.499686; batch adversarial loss: 0.523272\n"
     ]
    }
   ],
   "source": [
    "# Error debiasing\n",
    "# Learn parameters with debias set to True\n",
    "debiased_model3 = AdversarialErrorDebiasing(privileged_groups = privileged_groups,\n",
    "                          unprivileged_groups = unprivileged_groups,\n",
    "                          scope_name='debiasedae_classifier',\n",
    "                          debias=True,\n",
    "                          sess=sess,\n",
    "                          absolute=True)\n",
    "debiased_model3.fit(dataset_orig_train)\n",
    "\n",
    "# Apply the plain model to test data\n",
    "dataset_debiasing_train3 = debiased_model3.predict(dataset_orig_train)\n",
    "dataset_debiasing_test3 = debiased_model3.predict(dataset_orig_test)\n"
   ]
  },
  {
   "cell_type": "code",
   "execution_count": 21,
   "metadata": {},
   "outputs": [
    {
     "data": {
      "text/markdown": [
       "#### Plain model - without debiasing - dataset metrics"
      ],
      "text/plain": [
       "<IPython.core.display.Markdown object>"
      ]
     },
     "metadata": {},
     "output_type": "display_data"
    },
    {
     "name": "stdout",
     "output_type": "stream",
     "text": [
      "Train set: Difference in mean outcomes between unprivileged and privileged groups = -0.210455\n",
      "Test set: Difference in mean outcomes between unprivileged and privileged groups = -0.206837\n"
     ]
    },
    {
     "data": {
      "text/markdown": [
       "#### Model - with debiasing - dataset metrics"
      ],
      "text/plain": [
       "<IPython.core.display.Markdown object>"
      ]
     },
     "metadata": {},
     "output_type": "display_data"
    },
    {
     "name": "stdout",
     "output_type": "stream",
     "text": [
      "Train set: Difference in mean outcomes between unprivileged and privileged groups = -0.086405\n",
      "Test set: Difference in mean outcomes between unprivileged and privileged groups = -0.088343\n"
     ]
    },
    {
     "data": {
      "text/markdown": [
       "#### Model - with error debiasing - dataset metrics"
      ],
      "text/plain": [
       "<IPython.core.display.Markdown object>"
      ]
     },
     "metadata": {},
     "output_type": "display_data"
    },
    {
     "name": "stdout",
     "output_type": "stream",
     "text": [
      "Train set: Difference in mean outcomes between unprivileged and privileged groups = -0.078092\n",
      "Test set: Difference in mean outcomes between unprivileged and privileged groups = -0.076155\n"
     ]
    },
    {
     "data": {
      "text/markdown": [
       "#### Plain model - without debiasing - classification metrics"
      ],
      "text/plain": [
       "<IPython.core.display.Markdown object>"
      ]
     },
     "metadata": {},
     "output_type": "display_data"
    },
    {
     "name": "stdout",
     "output_type": "stream",
     "text": [
      "Test set: Classification accuracy = 0.801474\n",
      "Test set: Balanced classification accuracy = 0.656691\n",
      "Test set: Disparate impact = 0.000000\n",
      "Test set: Equal opportunity difference = -0.444112\n",
      "Test set: Average odds difference = -0.272758\n",
      "Test set: Theil_index = 0.183319\n"
     ]
    },
    {
     "data": {
      "text/markdown": [
       "#### Model - with debiasing - classification metrics"
      ],
      "text/plain": [
       "<IPython.core.display.Markdown object>"
      ]
     },
     "metadata": {},
     "output_type": "display_data"
    },
    {
     "name": "stdout",
     "output_type": "stream",
     "text": [
      "Test set: Classification accuracy = 0.792602\n",
      "Test set: Balanced classification accuracy = 0.669734\n",
      "Test set: Disparate impact = 0.565360\n",
      "Test set: Equal opportunity difference = -0.040387\n",
      "Test set: Average odds difference = -0.030369\n",
      "Test set: Theil_index = 0.174534\n"
     ]
    },
    {
     "data": {
      "text/markdown": [
       "#### Model - with error debiasing - classification metrics"
      ],
      "text/plain": [
       "<IPython.core.display.Markdown object>"
      ]
     },
     "metadata": {},
     "output_type": "display_data"
    },
    {
     "name": "stdout",
     "output_type": "stream",
     "text": [
      "Test set: Classification accuracy = 0.790760\n",
      "Test set: Balanced classification accuracy = 0.670140\n",
      "Test set: Disparate impact = 0.625511\n",
      "Test set: Equal opportunity difference = -0.009590\n",
      "Test set: Average odds difference = -0.010079\n",
      "Test set: Theil_index = 0.174065\n"
     ]
    },
    {
     "data": {
      "text/markdown": [
       "#### Model - with absolute error debiasing - classification metrics"
      ],
      "text/plain": [
       "<IPython.core.display.Markdown object>"
      ]
     },
     "metadata": {},
     "output_type": "display_data"
    },
    {
     "name": "stdout",
     "output_type": "stream",
     "text": [
      "Test set: Classification accuracy = 0.800996\n",
      "Test set: Balanced classification accuracy = 0.654370\n",
      "Test set: Disparate impact = 0.000000\n",
      "Test set: Equal opportunity difference = -0.437126\n",
      "Test set: Average odds difference = -0.268230\n",
      "Test set: Theil_index = 0.184701\n"
     ]
    }
   ],
   "source": [
    "\n",
    "# Metrics for the dataset from plain model (without debiasing)\n",
    "display(Markdown(\"#### Plain model - without debiasing - dataset metrics\"))\n",
    "print(\"Train set: Difference in mean outcomes between unprivileged and privileged groups = %f\" % metric_dataset_nodebiasing_train.mean_difference())\n",
    "print(\"Test set: Difference in mean outcomes between unprivileged and privileged groups = %f\" % metric_dataset_nodebiasing_test.mean_difference())\n",
    "\n",
    "# Metrics for the dataset from model with debiasing\n",
    "display(Markdown(\"#### Model - with debiasing - dataset metrics\"))\n",
    "metric_dataset_debiasing_train = BinaryLabelDatasetMetric(dataset_debiasing_train, \n",
    "                                             unprivileged_groups=unprivileged_groups,\n",
    "                                             privileged_groups=privileged_groups)\n",
    "\n",
    "print(\"Train set: Difference in mean outcomes between unprivileged and privileged groups = %f\" % metric_dataset_debiasing_train.mean_difference())\n",
    "\n",
    "metric_dataset_debiasing_test = BinaryLabelDatasetMetric(dataset_debiasing_test, \n",
    "                                             unprivileged_groups=unprivileged_groups,\n",
    "                                             privileged_groups=privileged_groups)\n",
    "\n",
    "print(\"Test set: Difference in mean outcomes between unprivileged and privileged groups = %f\" % metric_dataset_debiasing_test.mean_difference())\n",
    "\n",
    "# Metrics for the dataset from model with error debiasing\n",
    "display(Markdown(\"#### Model - with error debiasing - dataset metrics\"))\n",
    "metric_dataset_debiasing_train2 = BinaryLabelDatasetMetric(dataset_debiasing_train2, \n",
    "                                             unprivileged_groups=unprivileged_groups,\n",
    "                                             privileged_groups=privileged_groups)\n",
    "\n",
    "print(\"Train set: Difference in mean outcomes between unprivileged and privileged groups = %f\" % metric_dataset_debiasing_train2.mean_difference())\n",
    "\n",
    "metric_dataset_debiasing_test2 = BinaryLabelDatasetMetric(dataset_debiasing_test2, \n",
    "                                             unprivileged_groups=unprivileged_groups,\n",
    "                                             privileged_groups=privileged_groups)\n",
    "\n",
    "print(\"Test set: Difference in mean outcomes between unprivileged and privileged groups = %f\" % metric_dataset_debiasing_test2.mean_difference())\n",
    "\n",
    "\n",
    "\n",
    "display(Markdown(\"#### Plain model - without debiasing - classification metrics\"))\n",
    "print(\"Test set: Classification accuracy = %f\" % classified_metric_nodebiasing_test.accuracy())\n",
    "TPR = classified_metric_nodebiasing_test.true_positive_rate()\n",
    "TNR = classified_metric_nodebiasing_test.true_negative_rate()\n",
    "bal_acc_nodebiasing_test = 0.5*(TPR+TNR)\n",
    "print(\"Test set: Balanced classification accuracy = %f\" % bal_acc_nodebiasing_test)\n",
    "print(\"Test set: Disparate impact = %f\" % classified_metric_nodebiasing_test.disparate_impact())\n",
    "print(\"Test set: Equal opportunity difference = %f\" % classified_metric_nodebiasing_test.equal_opportunity_difference())\n",
    "print(\"Test set: Average odds difference = %f\" % classified_metric_nodebiasing_test.average_odds_difference())\n",
    "print(\"Test set: Theil_index = %f\" % classified_metric_nodebiasing_test.theil_index())\n",
    "\n",
    "\n",
    "\n",
    "display(Markdown(\"#### Model - with debiasing - classification metrics\"))\n",
    "classified_metric_debiasing_test = ClassificationMetric(dataset_orig_test, \n",
    "                                                 dataset_debiasing_test,\n",
    "                                                 unprivileged_groups=unprivileged_groups,\n",
    "                                                 privileged_groups=privileged_groups)\n",
    "print(\"Test set: Classification accuracy = %f\" % classified_metric_debiasing_test.accuracy())\n",
    "TPR = classified_metric_debiasing_test.true_positive_rate()\n",
    "TNR = classified_metric_debiasing_test.true_negative_rate()\n",
    "bal_acc_debiasing_test = 0.5*(TPR+TNR)\n",
    "print(\"Test set: Balanced classification accuracy = %f\" % bal_acc_debiasing_test)\n",
    "print(\"Test set: Disparate impact = %f\" % classified_metric_debiasing_test.disparate_impact())\n",
    "print(\"Test set: Equal opportunity difference = %f\" % classified_metric_debiasing_test.equal_opportunity_difference())\n",
    "print(\"Test set: Average odds difference = %f\" % classified_metric_debiasing_test.average_odds_difference())\n",
    "print(\"Test set: Theil_index = %f\" % classified_metric_debiasing_test.theil_index())\n",
    "\n",
    "\n",
    "\n",
    "display(Markdown(\"#### Model - with error debiasing - classification metrics\"))\n",
    "classified_metric_debiasing_test2 = ClassificationMetric(dataset_orig_test, \n",
    "                                                 dataset_debiasing_test2,\n",
    "                                                 unprivileged_groups=unprivileged_groups,\n",
    "                                                 privileged_groups=privileged_groups)\n",
    "print(\"Test set: Classification accuracy = %f\" % classified_metric_debiasing_test2.accuracy())\n",
    "TPR = classified_metric_debiasing_test2.true_positive_rate()\n",
    "TNR = classified_metric_debiasing_test2.true_negative_rate()\n",
    "bal_acc_debiasing_test2 = 0.5*(TPR+TNR)\n",
    "print(\"Test set: Balanced classification accuracy = %f\" % bal_acc_debiasing_test2)\n",
    "print(\"Test set: Disparate impact = %f\" % classified_metric_debiasing_test2.disparate_impact())\n",
    "print(\"Test set: Equal opportunity difference = %f\" % classified_metric_debiasing_test2.equal_opportunity_difference())\n",
    "print(\"Test set: Average odds difference = %f\" % classified_metric_debiasing_test2.average_odds_difference())\n",
    "print(\"Test set: Theil_index = %f\" % classified_metric_debiasing_test2.theil_index())\n",
    "\n",
    "display(Markdown(\"#### Model - with absolute error debiasing - classification metrics\"))\n",
    "classified_metric_debiasing_test3 = ClassificationMetric(dataset_orig_test, \n",
    "                                                 dataset_debiasing_test3,\n",
    "                                                 unprivileged_groups=unprivileged_groups,\n",
    "                                                 privileged_groups=privileged_groups)\n",
    "print(\"Test set: Classification accuracy = %f\" % classified_metric_debiasing_test3.accuracy())\n",
    "TPR = classified_metric_debiasing_test3.true_positive_rate()\n",
    "TNR = classified_metric_debiasing_test3.true_negative_rate()\n",
    "bal_acc_debiasing_test3 = 0.5*(TPR+TNR)\n",
    "print(\"Test set: Balanced classification accuracy = %f\" % bal_acc_debiasing_test3)\n",
    "print(\"Test set: Disparate impact = %f\" % classified_metric_debiasing_test3.disparate_impact())\n",
    "print(\"Test set: Equal opportunity difference = %f\" % classified_metric_debiasing_test3.equal_opportunity_difference())\n",
    "print(\"Test set: Average odds difference = %f\" % classified_metric_debiasing_test3.average_odds_difference())\n",
    "print(\"Test set: Theil_index = %f\" % classified_metric_debiasing_test3.theil_index())"
   ]
  },
  {
   "cell_type": "code",
   "execution_count": null,
   "metadata": {},
   "outputs": [],
   "source": []
  }
 ],
 "metadata": {
  "kernelspec": {
   "display_name": "Python 3",
   "language": "python",
   "name": "python3"
  },
  "language_info": {
   "codemirror_mode": {
    "name": "ipython",
    "version": 3
   },
   "file_extension": ".py",
   "mimetype": "text/x-python",
   "name": "python",
   "nbconvert_exporter": "python",
   "pygments_lexer": "ipython3",
   "version": "3.8.5"
  }
 },
 "nbformat": 4,
 "nbformat_minor": 4
}
